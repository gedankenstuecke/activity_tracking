{
 "cells": [
  {
   "cell_type": "code",
   "execution_count": 1,
   "metadata": {
    "collapsed": true
   },
   "outputs": [],
   "source": [
    "import json\n",
    "import datetime\n",
    "import pytz\n",
    "import pandas as pd\n",
    "from collections import defaultdict"
   ]
  },
  {
   "cell_type": "code",
   "execution_count": 2,
   "metadata": {
    "collapsed": true
   },
   "outputs": [],
   "source": [
    "# open the fitbit file as downloaded from Open Humans\n",
    "with open('fitbit-data.json') as f:\n",
    "    d = f.readlines()\n",
    "    d = \"\".join(d)\n",
    "    fitbit = json.loads(d)"
   ]
  },
  {
   "cell_type": "code",
   "execution_count": 3,
   "metadata": {
    "collapsed": true
   },
   "outputs": [],
   "source": [
    "# which keys do we export to the CSV, not all keys are valid for the export as done below. \n",
    "# this selection works\n",
    "keys = ['sleep-awakenings',\n",
    "        'heart',\n",
    "        'tracker-minutes-very-active', \n",
    "        'tracker-minutes-lightly-active', \n",
    "        'sleep-minutes-after-wakeup', \n",
    "        'tracker-elevation', \n",
    "        'tracker-steps', \n",
    "        'tracker-distance', \n",
    "        'time-in-bed', \n",
    "        'minutes-to-sleep', \n",
    "        'tracker-minutes-sedentary', \n",
    "        'tracker-calories', \n",
    "        'tracker-floors', \n",
    "        'sleep-start-time', \n",
    "        'tracker-minutes-fairly-active', \n",
    "        'awake-minutes', \n",
    "        'sleep-minutes', \n",
    "        'sleep-efficiency']"
   ]
  },
  {
   "cell_type": "code",
   "execution_count": 7,
   "metadata": {},
   "outputs": [],
   "source": [
    "# create an empty list that will store the dataframes for the individual data types\n",
    "dataframes = []\n",
    "for key in keys:\n",
    "    timestamp = []\n",
    "    value = []\n",
    "    if key != 'heart':\n",
    "        for datarange in fitbit[key].keys():\n",
    "            internal_key = list(fitbit[key][datarange].keys())[0]\n",
    "            for entry in fitbit[key][datarange][internal_key]:\n",
    "                timestamp.append(entry['dateTime'])\n",
    "                value.append(entry['value'])\n",
    "    else:\n",
    "        for datarange in fitbit[key].keys():\n",
    "            for day in fitbit['heart'][datarange]['activities-heart']:\n",
    "                if 'restingHeartRate' in day['value'].keys():\n",
    "                    timestamp.append(day['dateTime'])\n",
    "                    value.append(day['value']['restingHeartRate'])\n",
    "                internal_key = 'restingHeartRate'\n",
    "    df = pd.DataFrame(data = {'date': timestamp, \n",
    "                              internal_key: value})\n",
    "    dataframes.append(df)\n",
    "\n",
    "# Merge the individual dataframes into a larger one with all columns\n",
    "df_merged = dataframes.pop(0)\n",
    "for df in dataframes:\n",
    "    df_merged = pd.merge(df_merged, df, on='date') \n",
    "df_merged.index = pd.to_datetime(df_merged['date'])"
   ]
  },
  {
   "cell_type": "code",
   "execution_count": 8,
   "metadata": {
    "collapsed": true
   },
   "outputs": [],
   "source": [
    "# Export this file to CSV\n",
    "df_merged.to_csv('fitbit_with_heart.csv')\n",
    "\n",
    "# use this file for the Rscript"
   ]
  }
 ],
 "metadata": {
  "kernelspec": {
   "display_name": "Python 3",
   "language": "python",
   "name": "python3"
  },
  "language_info": {
   "codemirror_mode": {
    "name": "ipython",
    "version": 3
   },
   "file_extension": ".py",
   "mimetype": "text/x-python",
   "name": "python",
   "nbconvert_exporter": "python",
   "pygments_lexer": "ipython3",
   "version": "3.6.3"
  }
 },
 "nbformat": 4,
 "nbformat_minor": 2
}
