{
 "cells": [
  {
   "cell_type": "code",
   "execution_count": 1,
   "metadata": {},
   "outputs": [
    {
     "name": "stdout",
     "output_type": "stream",
     "text": [
      "200\n",
      "<b class=\"fullname\">Bastian Greshake Tzovaras</b>\n"
     ]
    }
   ],
   "source": [
    "import requests\n",
    "from bs4 import BeautifulSoup\n",
    "\n",
    "username = \"uname\"\n",
    "password = \"pass\"\n",
    "# login url\n",
    "post = \"https://twitter.com/sessions\"\n",
    "url = \"https://twitter.com\"\n",
    "\n",
    "data = {\"session[username_or_email]\": \"$YOUR_TWITTER_USERNAME\",\n",
    "        \"session[password]\": \"$YOUR_TWITTER_PASSWORD\",\n",
    "        \"scribe_log\": \"\",\n",
    "        \"redirect_after_login\": \"/\",\n",
    "        \"remember_me\": \"1\"}\n",
    "\n",
    "\n",
    "s = requests.Session()\n",
    "r = s.get(url)\n",
    "# get auth token\n",
    "soup = BeautifulSoup(r.content, \"lxml\")\n",
    "AUTH_TOKEN = soup.select_one(\"input[name=authenticity_token]\")[\"value\"]\n",
    "# update data, post and you are logged in.\n",
    "data[\"authenticity_token\"] = AUTH_TOKEN\n",
    "r = s.post(post, data=data)\n",
    "print(r.status_code)\n",
    "soup = BeautifulSoup(r.content, \"lxml\")\n",
    "print(soup.select_one(\"b.fullname\"))\n",
    "    \n",
    "\n",
    "def get_impressions(s,tweet_id):\n",
    "    metrics = {}\n",
    "    r = s.get(\"https://twitter.com/i/tfb/v1/quick_promote/{}\".format(tweet_id))\n",
    "    soup = BeautifulSoup(r.content, \"lxml\")\n",
    "    try:\n",
    "        metrics[soup.select_one(\"div.ep-MetricValue\").attrs['data-metric-type']] = soup.select_one(\"div.ep-MetricValue\").select_one(\"span\").contents[0]\n",
    "        soup.select_one(\"div.ep-MetricValue\").select_one(\"span\").contents[0]\n",
    "        for element in soup.select('td.ep-EngagementsTableValue'):\n",
    "            if 'data-title' in element.attrs.keys():\n",
    "                soup_title = BeautifulSoup(element.attrs['data-title'], \"lxml\")\n",
    "                for div in soup_title.find_all(\"div\"):\n",
    "                    if \"data-metric-type\" in div.attrs.keys():\n",
    "                        metric = div.attrs['data-metric-type']\n",
    "                        value = soup_title.select_one('span.ep-MetricAnimation').contents[0]\n",
    "                        metrics[metric] = value\n",
    "                        break\n",
    "            else:\n",
    "                value = element.find('span').contents[0]\n",
    "                metric = element.attrs['data-metric-type']\n",
    "                metrics[metric] = value\n",
    "        #print(metrics)\n",
    "        return metrics\n",
    "    except: \n",
    "        pass"
   ]
  },
  {
   "cell_type": "code",
   "execution_count": 2,
   "metadata": {},
   "outputs": [],
   "source": [
    "import json\n",
    "impressions = {}\n",
    "\n",
    "for i,line in enumerate(open(\"/Users/bastian/Downloads/14286491_2ff36254a0fdc964eeb551a9ba8fbbb327569c02/tweets.csv\",'r')):\n",
    "    la = line.strip().split(',')\n",
    "    if len(la) == 10:\n",
    "        if i > 0:\n",
    "            la = line.strip().split(',')\n",
    "            tweet_id = la[0].replace('\"','')\n",
    "            timestamp = la[3].replace('\"','')\n",
    "            if int(timestamp[:4]) > 2013 and la[5] != '\"\"' :\n",
    "                impression = get_impressions(s,tweet_id)\n",
    "                if impression:\n",
    "                    impression['timestamp'] = timestamp\n",
    "                    impression['tweet_id'] = tweet_id\n",
    "                    impressions[tweet_id] = json.dumps(impression)\n",
    "        if i > 20:\n",
    "            break"
   ]
  },
  {
   "cell_type": "code",
   "execution_count": 3,
   "metadata": {},
   "outputs": [
    {
     "name": "stdout",
     "output_type": "stream",
     "text": [
      "{'941221774338822145': '{\"Impressions\": \"811\", \"Engagements\": \"31\", \"MediaEngagements\": \"16\", \"DetailExpands\": \"8\", \"Favorites\": \"4\", \"Replies\": \"1\", \"Retweets\": \"1\", \"UserProfileClicks\": \"1\", \"timestamp\": \"2017-12-14 08:22:12 +0000\", \"tweet_id\": \"941221774338822145\"}', '941149811981434880': '{\"Impressions\": \"407\", \"Engagements\": \"14\", \"UrlClicks\": \"9\", \"DetailExpands\": \"3\", \"Favorites\": \"2\", \"timestamp\": \"2017-12-14 03:36:15 +0000\", \"tweet_id\": \"941149811981434880\"}', '941098315805990912': '{\"Impressions\": \"246\", \"Engagements\": \"5\", \"DetailExpands\": \"3\", \"Favorites\": \"2\", \"timestamp\": \"2017-12-14 00:11:37 +0000\", \"tweet_id\": \"941098315805990912\"}', '941013561169494016': '{\"Impressions\": \"1,877\", \"Engagements\": \"138\", \"MediaEngagements\": \"100\", \"DetailExpands\": \"17\", \"Favorites\": \"7\", \"UrlClicks\": \"6\", \"Replies\": \"3\", \"Retweets\": \"3\", \"UserProfileClicks\": \"2\", \"timestamp\": \"2017-12-13 18:34:50 +0000\", \"tweet_id\": \"941013561169494016\"}', '940690907539443713': '{\"Impressions\": \"862\", \"Engagements\": \"18\", \"Favorites\": \"13\", \"DetailExpands\": \"4\", \"UserProfileClicks\": \"1\", \"timestamp\": \"2017-12-12 21:12:44 +0000\", \"tweet_id\": \"940690907539443713\"}', '940612445315350528': '{\"Impressions\": \"102\", \"Engagements\": \"3\", \"MediaEngagements\": \"1\", \"Favorites\": \"1\", \"DetailExpands\": \"1\", \"timestamp\": \"2017-12-12 16:00:57 +0000\", \"tweet_id\": \"940612445315350528\"}', '940493393309794304': '{\"Impressions\": \"118\", \"Engagements\": \"7\", \"DetailExpands\": \"5\", \"Replies\": \"1\", \"Favorites\": \"1\", \"timestamp\": \"2017-12-12 08:07:53 +0000\", \"tweet_id\": \"940493393309794304\"}', '940492973640359936': '{\"Impressions\": \"124\", \"Engagements\": \"3\", \"DetailExpands\": \"2\", \"Replies\": \"1\", \"timestamp\": \"2017-12-12 08:06:13 +0000\", \"tweet_id\": \"940492973640359936\"}', '940491516711071744': '{\"Impressions\": \"122\", \"Engagements\": \"3\", \"DetailExpands\": \"2\", \"Replies\": \"1\", \"timestamp\": \"2017-12-12 08:00:25 +0000\", \"tweet_id\": \"940491516711071744\"}', '940490651514298368': '{\"Impressions\": \"129\", \"Engagements\": \"11\", \"DetailExpands\": \"10\", \"Replies\": \"1\", \"timestamp\": \"2017-12-12 07:56:59 +0000\", \"tweet_id\": \"940490651514298368\"}', '940378221228335104': '{\"Impressions\": \"2,250\", \"Engagements\": \"17\", \"DetailExpands\": \"6\", \"Favorites\": \"5\", \"Retweets\": \"4\", \"UserProfileClicks\": \"2\", \"timestamp\": \"2017-12-12 00:30:13 +0000\", \"tweet_id\": \"940378221228335104\"}'}\n"
     ]
    }
   ],
   "source": [
    "print(impressions)"
   ]
  },
  {
   "cell_type": "code",
   "execution_count": null,
   "metadata": {
    "collapsed": true
   },
   "outputs": [],
   "source": []
  }
 ],
 "metadata": {
  "kernelspec": {
   "display_name": "Python 3",
   "language": "python",
   "name": "python3"
  },
  "language_info": {
   "codemirror_mode": {
    "name": "ipython",
    "version": 3
   },
   "file_extension": ".py",
   "mimetype": "text/x-python",
   "name": "python",
   "nbconvert_exporter": "python",
   "pygments_lexer": "ipython3",
   "version": "3.6.3"
  }
 },
 "nbformat": 4,
 "nbformat_minor": 2
}
